{
 "cells": [
  {
   "cell_type": "markdown",
   "id": "67a3acc7",
   "metadata": {},
   "source": [
    " # Отток клиентов телекомуникационной компании\n",
    "    \n",
    " ## Описание задачи\n",
    "\n",
    "\n",
    " Датасет содержит данные о клиентах телекомуникационной компании. Необходимо определить какие из текущих пользователей останутся клиентами компании, а какие перестанут ими быть."
   ]
  },
  {
   "cell_type": "markdown",
   "id": "15efedf6",
   "metadata": {},
   "source": [
    "## Чтение данных"
   ]
  },
  {
   "cell_type": "code",
   "execution_count": 2,
   "id": "0c27221e",
   "metadata": {},
   "outputs": [],
   "source": [
    "import numpy as np\n",
    "import matplotlib.pyplot as plt\n",
    "import pandas as pd\n",
    "import seaborn as sns\n",
    "import sklearn\n",
    "%matplotlib inline"
   ]
  },
  {
   "cell_type": "code",
   "execution_count": 3,
   "id": "975bbb0c",
   "metadata": {},
   "outputs": [],
   "source": [
    "file = \"churn.csv\"\n",
    "data = pd.read_csv(file)"
   ]
  },
  {
   "cell_type": "markdown",
   "id": "7e0f0ad8",
   "metadata": {},
   "source": [
    " Выведем количество строк и столбцов"
   ]
  },
  {
   "cell_type": "code",
   "execution_count": 4,
   "id": "2c7cbaed",
   "metadata": {},
   "outputs": [
    {
     "data": {
      "text/plain": [
       "(6499, 21)"
      ]
     },
     "execution_count": 4,
     "metadata": {},
     "output_type": "execute_result"
    }
   ],
   "source": [
    "data.shape"
   ]
  },
  {
   "cell_type": "code",
   "execution_count": 5,
   "id": "ce03cede",
   "metadata": {},
   "outputs": [
    {
     "data": {
      "text/html": [
       "<div>\n",
       "<style scoped>\n",
       "    .dataframe tbody tr th:only-of-type {\n",
       "        vertical-align: middle;\n",
       "    }\n",
       "\n",
       "    .dataframe tbody tr th {\n",
       "        vertical-align: top;\n",
       "    }\n",
       "\n",
       "    .dataframe thead th {\n",
       "        text-align: right;\n",
       "    }\n",
       "</style>\n",
       "<table border=\"1\" class=\"dataframe\">\n",
       "  <thead>\n",
       "    <tr style=\"text-align: right;\">\n",
       "      <th></th>\n",
       "      <th>CustomerID</th>\n",
       "      <th>Gender</th>\n",
       "      <th>Senior Citizen</th>\n",
       "      <th>Partner</th>\n",
       "      <th>Dependents</th>\n",
       "      <th>Tenure</th>\n",
       "      <th>Phone Service</th>\n",
       "      <th>Multiple Lines</th>\n",
       "      <th>Internet Service</th>\n",
       "      <th>Online Security</th>\n",
       "      <th>...</th>\n",
       "      <th>Device Protection</th>\n",
       "      <th>Tech Support</th>\n",
       "      <th>Streaming TV</th>\n",
       "      <th>Streaming Movies</th>\n",
       "      <th>Contract</th>\n",
       "      <th>Paperless Billing</th>\n",
       "      <th>Payment Method</th>\n",
       "      <th>Monthly Charges</th>\n",
       "      <th>Total Charges</th>\n",
       "      <th>Churn</th>\n",
       "    </tr>\n",
       "  </thead>\n",
       "  <tbody>\n",
       "    <tr>\n",
       "      <th>0</th>\n",
       "      <td>7590-VHVEG</td>\n",
       "      <td>0</td>\n",
       "      <td>0</td>\n",
       "      <td>Yes</td>\n",
       "      <td>No</td>\n",
       "      <td>1</td>\n",
       "      <td>No</td>\n",
       "      <td>No phone service</td>\n",
       "      <td>DSL</td>\n",
       "      <td>No</td>\n",
       "      <td>...</td>\n",
       "      <td>No</td>\n",
       "      <td>No</td>\n",
       "      <td>No</td>\n",
       "      <td>No</td>\n",
       "      <td>Month-to-month</td>\n",
       "      <td>Yes</td>\n",
       "      <td>Electronic check</td>\n",
       "      <td>29.85</td>\n",
       "      <td>29.85</td>\n",
       "      <td>No</td>\n",
       "    </tr>\n",
       "    <tr>\n",
       "      <th>1</th>\n",
       "      <td>5575-GNVDE</td>\n",
       "      <td>1</td>\n",
       "      <td>0</td>\n",
       "      <td>No</td>\n",
       "      <td>No</td>\n",
       "      <td>34</td>\n",
       "      <td>Yes</td>\n",
       "      <td>No</td>\n",
       "      <td>DSL</td>\n",
       "      <td>Yes</td>\n",
       "      <td>...</td>\n",
       "      <td>Yes</td>\n",
       "      <td>No</td>\n",
       "      <td>No</td>\n",
       "      <td>No</td>\n",
       "      <td>One year</td>\n",
       "      <td>No</td>\n",
       "      <td>Mailed check</td>\n",
       "      <td>56.95</td>\n",
       "      <td>1889.50</td>\n",
       "      <td>No</td>\n",
       "    </tr>\n",
       "    <tr>\n",
       "      <th>2</th>\n",
       "      <td>3668-QPYBK</td>\n",
       "      <td>1</td>\n",
       "      <td>0</td>\n",
       "      <td>No</td>\n",
       "      <td>No</td>\n",
       "      <td>2</td>\n",
       "      <td>Yes</td>\n",
       "      <td>No</td>\n",
       "      <td>DSL</td>\n",
       "      <td>Yes</td>\n",
       "      <td>...</td>\n",
       "      <td>No</td>\n",
       "      <td>No</td>\n",
       "      <td>No</td>\n",
       "      <td>No</td>\n",
       "      <td>Month-to-month</td>\n",
       "      <td>Yes</td>\n",
       "      <td>Mailed check</td>\n",
       "      <td>53.85</td>\n",
       "      <td>108.15</td>\n",
       "      <td>Yes</td>\n",
       "    </tr>\n",
       "    <tr>\n",
       "      <th>3</th>\n",
       "      <td>7795-CFOCW</td>\n",
       "      <td>1</td>\n",
       "      <td>0</td>\n",
       "      <td>No</td>\n",
       "      <td>No</td>\n",
       "      <td>45</td>\n",
       "      <td>No</td>\n",
       "      <td>No phone service</td>\n",
       "      <td>DSL</td>\n",
       "      <td>Yes</td>\n",
       "      <td>...</td>\n",
       "      <td>Yes</td>\n",
       "      <td>Yes</td>\n",
       "      <td>No</td>\n",
       "      <td>No</td>\n",
       "      <td>One year</td>\n",
       "      <td>No</td>\n",
       "      <td>Bank transfer (automatic)</td>\n",
       "      <td>42.30</td>\n",
       "      <td>1840.75</td>\n",
       "      <td>No</td>\n",
       "    </tr>\n",
       "    <tr>\n",
       "      <th>4</th>\n",
       "      <td>9237-HQITU</td>\n",
       "      <td>0</td>\n",
       "      <td>0</td>\n",
       "      <td>No</td>\n",
       "      <td>No</td>\n",
       "      <td>2</td>\n",
       "      <td>Yes</td>\n",
       "      <td>No</td>\n",
       "      <td>Fiber optic</td>\n",
       "      <td>No</td>\n",
       "      <td>...</td>\n",
       "      <td>No</td>\n",
       "      <td>No</td>\n",
       "      <td>No</td>\n",
       "      <td>No</td>\n",
       "      <td>Month-to-month</td>\n",
       "      <td>Yes</td>\n",
       "      <td>Electronic check</td>\n",
       "      <td>70.70</td>\n",
       "      <td>151.65</td>\n",
       "      <td>Yes</td>\n",
       "    </tr>\n",
       "  </tbody>\n",
       "</table>\n",
       "<p>5 rows × 21 columns</p>\n",
       "</div>"
      ],
      "text/plain": [
       "   CustomerID  Gender  Senior Citizen Partner Dependents  Tenure  \\\n",
       "0  7590-VHVEG       0               0     Yes         No       1   \n",
       "1  5575-GNVDE       1               0      No         No      34   \n",
       "2  3668-QPYBK       1               0      No         No       2   \n",
       "3  7795-CFOCW       1               0      No         No      45   \n",
       "4  9237-HQITU       0               0      No         No       2   \n",
       "\n",
       "  Phone Service    Multiple Lines Internet Service Online Security  ...  \\\n",
       "0            No  No phone service              DSL              No  ...   \n",
       "1           Yes                No              DSL             Yes  ...   \n",
       "2           Yes                No              DSL             Yes  ...   \n",
       "3            No  No phone service              DSL             Yes  ...   \n",
       "4           Yes                No      Fiber optic              No  ...   \n",
       "\n",
       "  Device Protection Tech Support Streaming TV Streaming Movies  \\\n",
       "0                No           No           No               No   \n",
       "1               Yes           No           No               No   \n",
       "2                No           No           No               No   \n",
       "3               Yes          Yes           No               No   \n",
       "4                No           No           No               No   \n",
       "\n",
       "         Contract Paperless Billing             Payment Method  \\\n",
       "0  Month-to-month               Yes           Electronic check   \n",
       "1        One year                No               Mailed check   \n",
       "2  Month-to-month               Yes               Mailed check   \n",
       "3        One year                No  Bank transfer (automatic)   \n",
       "4  Month-to-month               Yes           Electronic check   \n",
       "\n",
       "  Monthly Charges  Total Charges  Churn  \n",
       "0           29.85          29.85     No  \n",
       "1           56.95        1889.50     No  \n",
       "2           53.85         108.15    Yes  \n",
       "3           42.30        1840.75     No  \n",
       "4           70.70         151.65    Yes  \n",
       "\n",
       "[5 rows x 21 columns]"
      ]
     },
     "execution_count": 5,
     "metadata": {},
     "output_type": "execute_result"
    }
   ],
   "source": [
    "data.head()"
   ]
  },
  {
   "cell_type": "markdown",
   "id": "5b9e723e",
   "metadata": {},
   "source": [
    "Заметим, что строка соответствует конкретному клиенту, а столбцы информации о нём. Всего в датасете содержится 21 признак:"
   ]
  },
  {
   "cell_type": "code",
   "execution_count": 6,
   "id": "b135a317",
   "metadata": {},
   "outputs": [
    {
     "data": {
      "text/plain": [
       "['CustomerID',\n",
       " 'Gender',\n",
       " 'Senior Citizen',\n",
       " 'Partner',\n",
       " 'Dependents',\n",
       " 'Tenure',\n",
       " 'Phone Service',\n",
       " 'Multiple Lines',\n",
       " 'Internet Service',\n",
       " 'Online Security',\n",
       " 'Online Backup',\n",
       " 'Device Protection',\n",
       " 'Tech Support',\n",
       " 'Streaming TV',\n",
       " 'Streaming Movies',\n",
       " 'Contract',\n",
       " 'Paperless Billing',\n",
       " 'Payment Method',\n",
       " 'Monthly Charges',\n",
       " 'Total Charges',\n",
       " 'Churn']"
      ]
     },
     "execution_count": 6,
     "metadata": {},
     "output_type": "execute_result"
    }
   ],
   "source": [
    "list(data.columns.values)"
   ]
  },
  {
   "cell_type": "markdown",
   "id": "d7a6a1b4",
   "metadata": {},
   "source": [
    "Для удобства исключим первый столбец, так как он не влияет на классификацию"
   ]
  },
  {
   "cell_type": "code",
   "execution_count": 7,
   "id": "ff7220dd",
   "metadata": {},
   "outputs": [
    {
     "data": {
      "text/html": [
       "<div>\n",
       "<style scoped>\n",
       "    .dataframe tbody tr th:only-of-type {\n",
       "        vertical-align: middle;\n",
       "    }\n",
       "\n",
       "    .dataframe tbody tr th {\n",
       "        vertical-align: top;\n",
       "    }\n",
       "\n",
       "    .dataframe thead th {\n",
       "        text-align: right;\n",
       "    }\n",
       "</style>\n",
       "<table border=\"1\" class=\"dataframe\">\n",
       "  <thead>\n",
       "    <tr style=\"text-align: right;\">\n",
       "      <th></th>\n",
       "      <th>Gender</th>\n",
       "      <th>Senior Citizen</th>\n",
       "      <th>Partner</th>\n",
       "      <th>Dependents</th>\n",
       "      <th>Tenure</th>\n",
       "      <th>Phone Service</th>\n",
       "      <th>Multiple Lines</th>\n",
       "      <th>Internet Service</th>\n",
       "      <th>Online Security</th>\n",
       "      <th>Online Backup</th>\n",
       "      <th>Device Protection</th>\n",
       "      <th>Tech Support</th>\n",
       "      <th>Streaming TV</th>\n",
       "      <th>Streaming Movies</th>\n",
       "      <th>Contract</th>\n",
       "      <th>Paperless Billing</th>\n",
       "      <th>Payment Method</th>\n",
       "      <th>Monthly Charges</th>\n",
       "      <th>Total Charges</th>\n",
       "      <th>Churn</th>\n",
       "    </tr>\n",
       "  </thead>\n",
       "  <tbody>\n",
       "    <tr>\n",
       "      <th>0</th>\n",
       "      <td>0</td>\n",
       "      <td>0</td>\n",
       "      <td>Yes</td>\n",
       "      <td>No</td>\n",
       "      <td>1</td>\n",
       "      <td>No</td>\n",
       "      <td>No phone service</td>\n",
       "      <td>DSL</td>\n",
       "      <td>No</td>\n",
       "      <td>Yes</td>\n",
       "      <td>No</td>\n",
       "      <td>No</td>\n",
       "      <td>No</td>\n",
       "      <td>No</td>\n",
       "      <td>Month-to-month</td>\n",
       "      <td>Yes</td>\n",
       "      <td>Electronic check</td>\n",
       "      <td>29.85</td>\n",
       "      <td>29.85</td>\n",
       "      <td>No</td>\n",
       "    </tr>\n",
       "    <tr>\n",
       "      <th>1</th>\n",
       "      <td>1</td>\n",
       "      <td>0</td>\n",
       "      <td>No</td>\n",
       "      <td>No</td>\n",
       "      <td>34</td>\n",
       "      <td>Yes</td>\n",
       "      <td>No</td>\n",
       "      <td>DSL</td>\n",
       "      <td>Yes</td>\n",
       "      <td>No</td>\n",
       "      <td>Yes</td>\n",
       "      <td>No</td>\n",
       "      <td>No</td>\n",
       "      <td>No</td>\n",
       "      <td>One year</td>\n",
       "      <td>No</td>\n",
       "      <td>Mailed check</td>\n",
       "      <td>56.95</td>\n",
       "      <td>1889.50</td>\n",
       "      <td>No</td>\n",
       "    </tr>\n",
       "    <tr>\n",
       "      <th>2</th>\n",
       "      <td>1</td>\n",
       "      <td>0</td>\n",
       "      <td>No</td>\n",
       "      <td>No</td>\n",
       "      <td>2</td>\n",
       "      <td>Yes</td>\n",
       "      <td>No</td>\n",
       "      <td>DSL</td>\n",
       "      <td>Yes</td>\n",
       "      <td>Yes</td>\n",
       "      <td>No</td>\n",
       "      <td>No</td>\n",
       "      <td>No</td>\n",
       "      <td>No</td>\n",
       "      <td>Month-to-month</td>\n",
       "      <td>Yes</td>\n",
       "      <td>Mailed check</td>\n",
       "      <td>53.85</td>\n",
       "      <td>108.15</td>\n",
       "      <td>Yes</td>\n",
       "    </tr>\n",
       "    <tr>\n",
       "      <th>3</th>\n",
       "      <td>1</td>\n",
       "      <td>0</td>\n",
       "      <td>No</td>\n",
       "      <td>No</td>\n",
       "      <td>45</td>\n",
       "      <td>No</td>\n",
       "      <td>No phone service</td>\n",
       "      <td>DSL</td>\n",
       "      <td>Yes</td>\n",
       "      <td>No</td>\n",
       "      <td>Yes</td>\n",
       "      <td>Yes</td>\n",
       "      <td>No</td>\n",
       "      <td>No</td>\n",
       "      <td>One year</td>\n",
       "      <td>No</td>\n",
       "      <td>Bank transfer (automatic)</td>\n",
       "      <td>42.30</td>\n",
       "      <td>1840.75</td>\n",
       "      <td>No</td>\n",
       "    </tr>\n",
       "    <tr>\n",
       "      <th>4</th>\n",
       "      <td>0</td>\n",
       "      <td>0</td>\n",
       "      <td>No</td>\n",
       "      <td>No</td>\n",
       "      <td>2</td>\n",
       "      <td>Yes</td>\n",
       "      <td>No</td>\n",
       "      <td>Fiber optic</td>\n",
       "      <td>No</td>\n",
       "      <td>No</td>\n",
       "      <td>No</td>\n",
       "      <td>No</td>\n",
       "      <td>No</td>\n",
       "      <td>No</td>\n",
       "      <td>Month-to-month</td>\n",
       "      <td>Yes</td>\n",
       "      <td>Electronic check</td>\n",
       "      <td>70.70</td>\n",
       "      <td>151.65</td>\n",
       "      <td>Yes</td>\n",
       "    </tr>\n",
       "  </tbody>\n",
       "</table>\n",
       "</div>"
      ],
      "text/plain": [
       "   Gender  Senior Citizen Partner Dependents  Tenure Phone Service  \\\n",
       "0       0               0     Yes         No       1            No   \n",
       "1       1               0      No         No      34           Yes   \n",
       "2       1               0      No         No       2           Yes   \n",
       "3       1               0      No         No      45            No   \n",
       "4       0               0      No         No       2           Yes   \n",
       "\n",
       "     Multiple Lines Internet Service Online Security Online Backup  \\\n",
       "0  No phone service              DSL              No           Yes   \n",
       "1                No              DSL             Yes            No   \n",
       "2                No              DSL             Yes           Yes   \n",
       "3  No phone service              DSL             Yes            No   \n",
       "4                No      Fiber optic              No            No   \n",
       "\n",
       "  Device Protection Tech Support Streaming TV Streaming Movies  \\\n",
       "0                No           No           No               No   \n",
       "1               Yes           No           No               No   \n",
       "2                No           No           No               No   \n",
       "3               Yes          Yes           No               No   \n",
       "4                No           No           No               No   \n",
       "\n",
       "         Contract Paperless Billing             Payment Method  \\\n",
       "0  Month-to-month               Yes           Electronic check   \n",
       "1        One year                No               Mailed check   \n",
       "2  Month-to-month               Yes               Mailed check   \n",
       "3        One year                No  Bank transfer (automatic)   \n",
       "4  Month-to-month               Yes           Electronic check   \n",
       "\n",
       "   Monthly Charges  Total Charges Churn  \n",
       "0            29.85          29.85    No  \n",
       "1            56.95        1889.50    No  \n",
       "2            53.85         108.15   Yes  \n",
       "3            42.30        1840.75    No  \n",
       "4            70.70         151.65   Yes  "
      ]
     },
     "execution_count": 7,
     "metadata": {},
     "output_type": "execute_result"
    }
   ],
   "source": [
    "data = data.drop(columns = 'CustomerID')\n",
    "data.head()"
   ]
  },
  {
   "cell_type": "markdown",
   "id": "76e31648",
   "metadata": {},
   "source": [
    "## Визуализация данных и вычисление основных характеристик"
   ]
  },
  {
   "cell_type": "markdown",
   "id": "212e39f8",
   "metadata": {},
   "source": [
    "Для количественных призназнаков выведем основные характеристики, где \n",
    "1. count - количество значений для каждого признака\n",
    "2. mean - среднее значение\n",
    "3. std - стандартное отклонение\n",
    "4. min - минимальное значение\n",
    "5. 50% - медиана\n",
    "6. 25% и 75% - первый и третий квартиль\n",
    "7. max - максимальное значени"
   ]
  },
  {
   "cell_type": "code",
   "execution_count": 8,
   "id": "ec496e78",
   "metadata": {},
   "outputs": [
    {
     "data": {
      "text/html": [
       "<div>\n",
       "<style scoped>\n",
       "    .dataframe tbody tr th:only-of-type {\n",
       "        vertical-align: middle;\n",
       "    }\n",
       "\n",
       "    .dataframe tbody tr th {\n",
       "        vertical-align: top;\n",
       "    }\n",
       "\n",
       "    .dataframe thead th {\n",
       "        text-align: right;\n",
       "    }\n",
       "</style>\n",
       "<table border=\"1\" class=\"dataframe\">\n",
       "  <thead>\n",
       "    <tr style=\"text-align: right;\">\n",
       "      <th></th>\n",
       "      <th>Gender</th>\n",
       "      <th>Senior Citizen</th>\n",
       "      <th>Tenure</th>\n",
       "      <th>Monthly Charges</th>\n",
       "      <th>Total Charges</th>\n",
       "    </tr>\n",
       "  </thead>\n",
       "  <tbody>\n",
       "    <tr>\n",
       "      <th>count</th>\n",
       "      <td>6499.000000</td>\n",
       "      <td>6499.000000</td>\n",
       "      <td>6499.000000</td>\n",
       "      <td>6499.000000</td>\n",
       "      <td>6490.000000</td>\n",
       "    </tr>\n",
       "    <tr>\n",
       "      <th>mean</th>\n",
       "      <td>0.506232</td>\n",
       "      <td>0.162487</td>\n",
       "      <td>32.369134</td>\n",
       "      <td>64.733344</td>\n",
       "      <td>2282.935177</td>\n",
       "    </tr>\n",
       "    <tr>\n",
       "      <th>std</th>\n",
       "      <td>0.500000</td>\n",
       "      <td>0.368925</td>\n",
       "      <td>24.584693</td>\n",
       "      <td>30.136193</td>\n",
       "      <td>2270.034922</td>\n",
       "    </tr>\n",
       "    <tr>\n",
       "      <th>min</th>\n",
       "      <td>0.000000</td>\n",
       "      <td>0.000000</td>\n",
       "      <td>0.000000</td>\n",
       "      <td>18.250000</td>\n",
       "      <td>18.800000</td>\n",
       "    </tr>\n",
       "    <tr>\n",
       "      <th>25%</th>\n",
       "      <td>0.000000</td>\n",
       "      <td>0.000000</td>\n",
       "      <td>9.000000</td>\n",
       "      <td>35.400000</td>\n",
       "      <td>399.300000</td>\n",
       "    </tr>\n",
       "    <tr>\n",
       "      <th>50%</th>\n",
       "      <td>1.000000</td>\n",
       "      <td>0.000000</td>\n",
       "      <td>29.000000</td>\n",
       "      <td>70.350000</td>\n",
       "      <td>1397.100000</td>\n",
       "    </tr>\n",
       "    <tr>\n",
       "      <th>75%</th>\n",
       "      <td>1.000000</td>\n",
       "      <td>0.000000</td>\n",
       "      <td>55.000000</td>\n",
       "      <td>89.850000</td>\n",
       "      <td>3786.612500</td>\n",
       "    </tr>\n",
       "    <tr>\n",
       "      <th>max</th>\n",
       "      <td>1.000000</td>\n",
       "      <td>1.000000</td>\n",
       "      <td>72.000000</td>\n",
       "      <td>118.750000</td>\n",
       "      <td>8684.800000</td>\n",
       "    </tr>\n",
       "  </tbody>\n",
       "</table>\n",
       "</div>"
      ],
      "text/plain": [
       "            Gender  Senior Citizen       Tenure  Monthly Charges  \\\n",
       "count  6499.000000     6499.000000  6499.000000      6499.000000   \n",
       "mean      0.506232        0.162487    32.369134        64.733344   \n",
       "std       0.500000        0.368925    24.584693        30.136193   \n",
       "min       0.000000        0.000000     0.000000        18.250000   \n",
       "25%       0.000000        0.000000     9.000000        35.400000   \n",
       "50%       1.000000        0.000000    29.000000        70.350000   \n",
       "75%       1.000000        0.000000    55.000000        89.850000   \n",
       "max       1.000000        1.000000    72.000000       118.750000   \n",
       "\n",
       "       Total Charges  \n",
       "count    6490.000000  \n",
       "mean     2282.935177  \n",
       "std      2270.034922  \n",
       "min        18.800000  \n",
       "25%       399.300000  \n",
       "50%      1397.100000  \n",
       "75%      3786.612500  \n",
       "max      8684.800000  "
      ]
     },
     "execution_count": 8,
     "metadata": {},
     "output_type": "execute_result"
    }
   ],
   "source": [
    "data.describe()"
   ]
  },
  {
   "cell_type": "markdown",
   "id": "913b92bc",
   "metadata": {},
   "source": [
    "Теперь для категориальных признаков выведем характеристики, где\n",
    "1. count - количество\n",
    "2. unique - количество уникальных значени\n",
    "3. top - наиболее часто встречающее значение\n",
    "4. freq - частота наиболее часто встречающегося значения"
   ]
  },
  {
   "cell_type": "code",
   "execution_count": 9,
   "id": "ca9a70bd",
   "metadata": {},
   "outputs": [
    {
     "data": {
      "text/html": [
       "<div>\n",
       "<style scoped>\n",
       "    .dataframe tbody tr th:only-of-type {\n",
       "        vertical-align: middle;\n",
       "    }\n",
       "\n",
       "    .dataframe tbody tr th {\n",
       "        vertical-align: top;\n",
       "    }\n",
       "\n",
       "    .dataframe thead th {\n",
       "        text-align: right;\n",
       "    }\n",
       "</style>\n",
       "<table border=\"1\" class=\"dataframe\">\n",
       "  <thead>\n",
       "    <tr style=\"text-align: right;\">\n",
       "      <th></th>\n",
       "      <th>Partner</th>\n",
       "      <th>Dependents</th>\n",
       "      <th>Phone Service</th>\n",
       "      <th>Multiple Lines</th>\n",
       "      <th>Internet Service</th>\n",
       "      <th>Online Security</th>\n",
       "      <th>Online Backup</th>\n",
       "      <th>Device Protection</th>\n",
       "      <th>Tech Support</th>\n",
       "      <th>Streaming TV</th>\n",
       "      <th>Streaming Movies</th>\n",
       "      <th>Contract</th>\n",
       "      <th>Paperless Billing</th>\n",
       "      <th>Payment Method</th>\n",
       "      <th>Churn</th>\n",
       "    </tr>\n",
       "  </thead>\n",
       "  <tbody>\n",
       "    <tr>\n",
       "      <th>count</th>\n",
       "      <td>6499</td>\n",
       "      <td>6499</td>\n",
       "      <td>6499</td>\n",
       "      <td>6499</td>\n",
       "      <td>6499</td>\n",
       "      <td>6499</td>\n",
       "      <td>6499</td>\n",
       "      <td>6499</td>\n",
       "      <td>6499</td>\n",
       "      <td>6499</td>\n",
       "      <td>6499</td>\n",
       "      <td>6499</td>\n",
       "      <td>6499</td>\n",
       "      <td>6499</td>\n",
       "      <td>6499</td>\n",
       "    </tr>\n",
       "    <tr>\n",
       "      <th>unique</th>\n",
       "      <td>2</td>\n",
       "      <td>2</td>\n",
       "      <td>2</td>\n",
       "      <td>3</td>\n",
       "      <td>3</td>\n",
       "      <td>3</td>\n",
       "      <td>3</td>\n",
       "      <td>3</td>\n",
       "      <td>3</td>\n",
       "      <td>3</td>\n",
       "      <td>3</td>\n",
       "      <td>3</td>\n",
       "      <td>2</td>\n",
       "      <td>4</td>\n",
       "      <td>2</td>\n",
       "    </tr>\n",
       "    <tr>\n",
       "      <th>top</th>\n",
       "      <td>No</td>\n",
       "      <td>No</td>\n",
       "      <td>Yes</td>\n",
       "      <td>No</td>\n",
       "      <td>Fiber optic</td>\n",
       "      <td>No</td>\n",
       "      <td>No</td>\n",
       "      <td>No</td>\n",
       "      <td>No</td>\n",
       "      <td>No</td>\n",
       "      <td>No</td>\n",
       "      <td>Month-to-month</td>\n",
       "      <td>Yes</td>\n",
       "      <td>Electronic check</td>\n",
       "      <td>No</td>\n",
       "    </tr>\n",
       "    <tr>\n",
       "      <th>freq</th>\n",
       "      <td>3359</td>\n",
       "      <td>4561</td>\n",
       "      <td>5884</td>\n",
       "      <td>3138</td>\n",
       "      <td>2860</td>\n",
       "      <td>3208</td>\n",
       "      <td>2855</td>\n",
       "      <td>2843</td>\n",
       "      <td>3209</td>\n",
       "      <td>2589</td>\n",
       "      <td>2555</td>\n",
       "      <td>3576</td>\n",
       "      <td>3836</td>\n",
       "      <td>2182</td>\n",
       "      <td>4784</td>\n",
       "    </tr>\n",
       "  </tbody>\n",
       "</table>\n",
       "</div>"
      ],
      "text/plain": [
       "       Partner Dependents Phone Service Multiple Lines Internet Service  \\\n",
       "count     6499       6499          6499           6499             6499   \n",
       "unique       2          2             2              3                3   \n",
       "top         No         No           Yes             No      Fiber optic   \n",
       "freq      3359       4561          5884           3138             2860   \n",
       "\n",
       "       Online Security Online Backup Device Protection Tech Support  \\\n",
       "count             6499          6499              6499         6499   \n",
       "unique               3             3                 3            3   \n",
       "top                 No            No                No           No   \n",
       "freq              3208          2855              2843         3209   \n",
       "\n",
       "       Streaming TV Streaming Movies        Contract Paperless Billing  \\\n",
       "count          6499             6499            6499              6499   \n",
       "unique            3                3               3                 2   \n",
       "top              No               No  Month-to-month               Yes   \n",
       "freq           2589             2555            3576              3836   \n",
       "\n",
       "          Payment Method Churn  \n",
       "count               6499  6499  \n",
       "unique                 4     2  \n",
       "top     Electronic check    No  \n",
       "freq                2182  4784  "
      ]
     },
     "execution_count": 9,
     "metadata": {},
     "output_type": "execute_result"
    }
   ],
   "source": [
    "data.describe(include=['object'])"
   ]
  },
  {
   "cell_type": "markdown",
   "id": "c507c922",
   "metadata": {},
   "source": [
    "Рассчитаем матрицу корреляции и представим ее графически"
   ]
  },
  {
   "cell_type": "code",
   "execution_count": 10,
   "id": "7dfecec4",
   "metadata": {},
   "outputs": [
    {
     "data": {
      "text/html": [
       "<div>\n",
       "<style scoped>\n",
       "    .dataframe tbody tr th:only-of-type {\n",
       "        vertical-align: middle;\n",
       "    }\n",
       "\n",
       "    .dataframe tbody tr th {\n",
       "        vertical-align: top;\n",
       "    }\n",
       "\n",
       "    .dataframe thead th {\n",
       "        text-align: right;\n",
       "    }\n",
       "</style>\n",
       "<table border=\"1\" class=\"dataframe\">\n",
       "  <thead>\n",
       "    <tr style=\"text-align: right;\">\n",
       "      <th></th>\n",
       "      <th>Gender</th>\n",
       "      <th>Senior Citizen</th>\n",
       "      <th>Tenure</th>\n",
       "      <th>Monthly Charges</th>\n",
       "      <th>Total Charges</th>\n",
       "    </tr>\n",
       "  </thead>\n",
       "  <tbody>\n",
       "    <tr>\n",
       "      <th>Gender</th>\n",
       "      <td>1.000000</td>\n",
       "      <td>0.001184</td>\n",
       "      <td>0.009096</td>\n",
       "      <td>-0.012448</td>\n",
       "      <td>0.003193</td>\n",
       "    </tr>\n",
       "    <tr>\n",
       "      <th>Senior Citizen</th>\n",
       "      <td>0.001184</td>\n",
       "      <td>1.000000</td>\n",
       "      <td>0.015732</td>\n",
       "      <td>0.220096</td>\n",
       "      <td>0.102562</td>\n",
       "    </tr>\n",
       "    <tr>\n",
       "      <th>Tenure</th>\n",
       "      <td>0.009096</td>\n",
       "      <td>0.015732</td>\n",
       "      <td>1.000000</td>\n",
       "      <td>0.248949</td>\n",
       "      <td>0.825554</td>\n",
       "    </tr>\n",
       "    <tr>\n",
       "      <th>Monthly Charges</th>\n",
       "      <td>-0.012448</td>\n",
       "      <td>0.220096</td>\n",
       "      <td>0.248949</td>\n",
       "      <td>1.000000</td>\n",
       "      <td>0.651688</td>\n",
       "    </tr>\n",
       "    <tr>\n",
       "      <th>Total Charges</th>\n",
       "      <td>0.003193</td>\n",
       "      <td>0.102562</td>\n",
       "      <td>0.825554</td>\n",
       "      <td>0.651688</td>\n",
       "      <td>1.000000</td>\n",
       "    </tr>\n",
       "  </tbody>\n",
       "</table>\n",
       "</div>"
      ],
      "text/plain": [
       "                   Gender  Senior Citizen    Tenure  Monthly Charges  \\\n",
       "Gender           1.000000        0.001184  0.009096        -0.012448   \n",
       "Senior Citizen   0.001184        1.000000  0.015732         0.220096   \n",
       "Tenure           0.009096        0.015732  1.000000         0.248949   \n",
       "Monthly Charges -0.012448        0.220096  0.248949         1.000000   \n",
       "Total Charges    0.003193        0.102562  0.825554         0.651688   \n",
       "\n",
       "                 Total Charges  \n",
       "Gender                0.003193  \n",
       "Senior Citizen        0.102562  \n",
       "Tenure                0.825554  \n",
       "Monthly Charges       0.651688  \n",
       "Total Charges         1.000000  "
      ]
     },
     "execution_count": 10,
     "metadata": {},
     "output_type": "execute_result"
    }
   ],
   "source": [
    "corr_matrix = data.corr()\n",
    "corr_matrix"
   ]
  },
  {
   "cell_type": "code",
   "execution_count": 11,
   "id": "266df363",
   "metadata": {},
   "outputs": [
    {
     "data": {
      "text/plain": [
       "<AxesSubplot:>"
      ]
     },
     "execution_count": 11,
     "metadata": {},
     "output_type": "execute_result"
    },
    {
     "data": {
      "image/png": "[encoded data removed]",
      "text/plain": [
       "<Figure size 432x288 with 2 Axes>"
      ]
     },
     "metadata": {
      "needs_background": "light"
     },
     "output_type": "display_data"
    }
   ],
   "source": [
    "sns.heatmap(corr_matrix, cmap='Spectral', square=True, vmin=-1.0, vmax=1.0)"
   ]
  },
  {
   "cell_type": "markdown",
   "id": "459deb6e",
   "metadata": {},
   "source": [
    "Корреляция наблюдается между признаками \"Tenure\" и \"Total Charges\"."
   ]
  },
  {
   "cell_type": "markdown",
   "id": "0165fa70",
   "metadata": {},
   "source": [
    "## Обработка пропущенных значений"
   ]
  },
  {
   "cell_type": "code",
   "execution_count": 12,
   "id": "754b9e0f",
   "metadata": {},
   "outputs": [
    {
     "data": {
      "text/plain": [
       "Gender               0\n",
       "Senior Citizen       0\n",
       "Partner              0\n",
       "Dependents           0\n",
       "Tenure               0\n",
       "Phone Service        0\n",
       "Multiple Lines       0\n",
       "Internet Service     0\n",
       "Online Security      0\n",
       "Online Backup        0\n",
       "Device Protection    0\n",
       "Tech Support         0\n",
       "Streaming TV         0\n",
       "Streaming Movies     0\n",
       "Contract             0\n",
       "Paperless Billing    0\n",
       "Payment Method       0\n",
       "Monthly Charges      0\n",
       "Total Charges        9\n",
       "Churn                0\n",
       "dtype: int64"
      ]
     },
     "execution_count": 12,
     "metadata": {},
     "output_type": "execute_result"
    }
   ],
   "source": [
    "data.isna().sum()"
   ]
  },
  {
   "cell_type": "markdown",
   "id": "0c89eaf9",
   "metadata": {},
   "source": [
    "Заметим, что пропущенные значения существуют только в признаке \"Total Charges\". Вычислим медиану для данного числового значение и заполним ей пропущенные. Убедимся в отсутствии пропущенных значений"
   ]
  },
  {
   "cell_type": "code",
   "execution_count": 13,
   "id": "d6a50537",
   "metadata": {},
   "outputs": [
    {
     "data": {
      "text/plain": [
       "Gender               0\n",
       "Senior Citizen       0\n",
       "Partner              0\n",
       "Dependents           0\n",
       "Tenure               0\n",
       "Phone Service        0\n",
       "Multiple Lines       0\n",
       "Internet Service     0\n",
       "Online Security      0\n",
       "Online Backup        0\n",
       "Device Protection    0\n",
       "Tech Support         0\n",
       "Streaming TV         0\n",
       "Streaming Movies     0\n",
       "Contract             0\n",
       "Paperless Billing    0\n",
       "Payment Method       0\n",
       "Monthly Charges      0\n",
       "Total Charges        0\n",
       "Churn                0\n",
       "dtype: int64"
      ]
     },
     "execution_count": 13,
     "metadata": {},
     "output_type": "execute_result"
    }
   ],
   "source": [
    "arrival_median = data['Total Charges'].median(axis = 0)\n",
    "data['Total Charges'].fillna(arrival_median, inplace = True)\n",
    "data.isnull().sum()"
   ]
  },
  {
   "cell_type": "markdown",
   "id": "b9cf7078",
   "metadata": {},
   "source": [
    "##  Обработка категориальных признаков"
   ]
  },
  {
   "cell_type": "markdown",
   "id": "5557e29e",
   "metadata": {},
   "source": [
    "Разделим признаки на категориальные и числовые"
   ]
  },
  {
   "cell_type": "code",
   "execution_count": 14,
   "id": "6e2f93d4",
   "metadata": {},
   "outputs": [],
   "source": [
    "num_colum = [c for c in data.columns if data[c].dtype.name != 'object']\n",
    "categor_colum = [c for c in data.columns if data[c].dtype.name == 'object']\n",
    "categor_colum.remove('Churn')\n",
    "data_describe = data.describe(include = ['object'])"
   ]
  },
  {
   "cell_type": "markdown",
   "id": "7651ecdb",
   "metadata": {},
   "source": [
    "Разделим категориальные признаки на бинарные и небинарные"
   ]
  },
  {
   "cell_type": "code",
   "execution_count": 15,
   "id": "4f458400",
   "metadata": {},
   "outputs": [],
   "source": [
    "binary_colum = [c for c in categor_colum if data_describe[c]['unique'] == 2]\n",
    "nonbinary_colum = [c for c in categor_colum if data_describe[c]['unique'] > 2]"
   ]
  },
  {
   "cell_type": "markdown",
   "id": "9277396e",
   "metadata": {},
   "source": [
    "Для бинарных признаков: заменим значения на 0 и 1"
   ]
  },
  {
   "cell_type": "code",
   "execution_count": 16,
   "id": "e5b58bcd",
   "metadata": {},
   "outputs": [
    {
     "name": "stdout",
     "output_type": "stream",
     "text": [
      "['Partner', 'Dependents', 'Phone Service', 'Paperless Billing']\n"
     ]
    }
   ],
   "source": [
    "print(binary_colum)"
   ]
  },
  {
   "cell_type": "code",
   "execution_count": 17,
   "id": "d1ec3afc",
   "metadata": {},
   "outputs": [
    {
     "name": "stdout",
     "output_type": "stream",
     "text": [
      "['Yes' 'No']\n",
      "['No' 'Yes']\n",
      "['No' 'Yes']\n",
      "['Yes' 'No']\n"
     ]
    }
   ],
   "source": [
    "print(data['Partner'].unique())\n",
    "print(data['Dependents'].unique())\n",
    "print(data['Phone Service'].unique())\n",
    "print(data['Paperless Billing'].unique())"
   ]
  },
  {
   "cell_type": "code",
   "execution_count": 18,
   "id": "227498e3",
   "metadata": {},
   "outputs": [
    {
     "name": "stdout",
     "output_type": "stream",
     "text": [
      "count    6499.000000\n",
      "mean        0.516849\n",
      "std         0.499754\n",
      "min         0.000000\n",
      "25%         0.000000\n",
      "50%         1.000000\n",
      "75%         1.000000\n",
      "max         1.000000\n",
      "Name: Partner, dtype: float64\n",
      "\n",
      "count    6499.000000\n",
      "mean        0.701800\n",
      "std         0.457503\n",
      "min         0.000000\n",
      "25%         0.000000\n",
      "50%         1.000000\n",
      "75%         1.000000\n",
      "max         1.000000\n",
      "Name: Dependents, dtype: float64\n",
      "\n",
      "count    6499.000000\n",
      "mean        0.094630\n",
      "std         0.292726\n",
      "min         0.000000\n",
      "25%         0.000000\n",
      "50%         0.000000\n",
      "75%         0.000000\n",
      "max         1.000000\n",
      "Name: Phone Service, dtype: float64\n",
      "\n",
      "count    6499.000000\n",
      "mean        0.409755\n",
      "std         0.491826\n",
      "min         0.000000\n",
      "25%         0.000000\n",
      "50%         0.000000\n",
      "75%         1.000000\n",
      "max         1.000000\n",
      "Name: Paperless Billing, dtype: float64\n",
      "\n"
     ]
    }
   ],
   "source": [
    "for col in binary_colum:\n",
    "    data = data.replace({col: {'Yes': 0, 'No': 1}})\n",
    "    print(data[col].describe())\n",
    "    print()"
   ]
  },
  {
   "cell_type": "markdown",
   "id": "c29d1b87",
   "metadata": {},
   "source": [
    "Для небинарных признаков: разделим каждый признак с s значениями на s признаков со значениями 0 и 1"
   ]
  },
  {
   "cell_type": "code",
   "execution_count": 19,
   "id": "de3ab15a",
   "metadata": {},
   "outputs": [
    {
     "data": {
      "text/html": [
       "<div>\n",
       "<style scoped>\n",
       "    .dataframe tbody tr th:only-of-type {\n",
       "        vertical-align: middle;\n",
       "    }\n",
       "\n",
       "    .dataframe tbody tr th {\n",
       "        vertical-align: top;\n",
       "    }\n",
       "\n",
       "    .dataframe thead th {\n",
       "        text-align: right;\n",
       "    }\n",
       "</style>\n",
       "<table border=\"1\" class=\"dataframe\">\n",
       "  <thead>\n",
       "    <tr style=\"text-align: right;\">\n",
       "      <th></th>\n",
       "      <th>Multiple Lines_No</th>\n",
       "      <th>Multiple Lines_No phone service</th>\n",
       "      <th>Multiple Lines_Yes</th>\n",
       "      <th>Internet Service_DSL</th>\n",
       "      <th>Internet Service_Fiber optic</th>\n",
       "      <th>Internet Service_No</th>\n",
       "      <th>Online Security_No</th>\n",
       "      <th>Online Security_No internet service</th>\n",
       "      <th>Online Security_Yes</th>\n",
       "      <th>Online Backup_No</th>\n",
       "      <th>...</th>\n",
       "      <th>Streaming Movies_No</th>\n",
       "      <th>Streaming Movies_No internet service</th>\n",
       "      <th>Streaming Movies_Yes</th>\n",
       "      <th>Contract_Month-to-month</th>\n",
       "      <th>Contract_One year</th>\n",
       "      <th>Contract_Two year</th>\n",
       "      <th>Payment Method_Bank transfer (automatic)</th>\n",
       "      <th>Payment Method_Credit card (automatic)</th>\n",
       "      <th>Payment Method_Electronic check</th>\n",
       "      <th>Payment Method_Mailed check</th>\n",
       "    </tr>\n",
       "  </thead>\n",
       "  <tbody>\n",
       "    <tr>\n",
       "      <th>count</th>\n",
       "      <td>6499.000000</td>\n",
       "      <td>6499.000000</td>\n",
       "      <td>6499.000000</td>\n",
       "      <td>6499.000000</td>\n",
       "      <td>6499.000000</td>\n",
       "      <td>6499.000000</td>\n",
       "      <td>6499.000000</td>\n",
       "      <td>6499.000000</td>\n",
       "      <td>6499.000000</td>\n",
       "      <td>6499.000000</td>\n",
       "      <td>...</td>\n",
       "      <td>6499.000000</td>\n",
       "      <td>6499.000000</td>\n",
       "      <td>6499.000000</td>\n",
       "      <td>6499.000000</td>\n",
       "      <td>6499.000000</td>\n",
       "      <td>6499.000000</td>\n",
       "      <td>6499.000000</td>\n",
       "      <td>6499.000000</td>\n",
       "      <td>6499.000000</td>\n",
       "      <td>6499.000000</td>\n",
       "    </tr>\n",
       "    <tr>\n",
       "      <th>mean</th>\n",
       "      <td>0.482844</td>\n",
       "      <td>0.094630</td>\n",
       "      <td>0.422527</td>\n",
       "      <td>0.341129</td>\n",
       "      <td>0.440068</td>\n",
       "      <td>0.218803</td>\n",
       "      <td>0.493614</td>\n",
       "      <td>0.218803</td>\n",
       "      <td>0.287583</td>\n",
       "      <td>0.439298</td>\n",
       "      <td>...</td>\n",
       "      <td>0.393137</td>\n",
       "      <td>0.218803</td>\n",
       "      <td>0.388060</td>\n",
       "      <td>0.550238</td>\n",
       "      <td>0.208955</td>\n",
       "      <td>0.240806</td>\n",
       "      <td>0.219418</td>\n",
       "      <td>0.216341</td>\n",
       "      <td>0.335744</td>\n",
       "      <td>0.228497</td>\n",
       "    </tr>\n",
       "    <tr>\n",
       "      <th>std</th>\n",
       "      <td>0.499744</td>\n",
       "      <td>0.292726</td>\n",
       "      <td>0.493999</td>\n",
       "      <td>0.474125</td>\n",
       "      <td>0.496433</td>\n",
       "      <td>0.413466</td>\n",
       "      <td>0.499998</td>\n",
       "      <td>0.413466</td>\n",
       "      <td>0.452670</td>\n",
       "      <td>0.496340</td>\n",
       "      <td>...</td>\n",
       "      <td>0.488484</td>\n",
       "      <td>0.413466</td>\n",
       "      <td>0.487346</td>\n",
       "      <td>0.497508</td>\n",
       "      <td>0.406594</td>\n",
       "      <td>0.427606</td>\n",
       "      <td>0.413884</td>\n",
       "      <td>0.411781</td>\n",
       "      <td>0.472286</td>\n",
       "      <td>0.419897</td>\n",
       "    </tr>\n",
       "    <tr>\n",
       "      <th>min</th>\n",
       "      <td>0.000000</td>\n",
       "      <td>0.000000</td>\n",
       "      <td>0.000000</td>\n",
       "      <td>0.000000</td>\n",
       "      <td>0.000000</td>\n",
       "      <td>0.000000</td>\n",
       "      <td>0.000000</td>\n",
       "      <td>0.000000</td>\n",
       "      <td>0.000000</td>\n",
       "      <td>0.000000</td>\n",
       "      <td>...</td>\n",
       "      <td>0.000000</td>\n",
       "      <td>0.000000</td>\n",
       "      <td>0.000000</td>\n",
       "      <td>0.000000</td>\n",
       "      <td>0.000000</td>\n",
       "      <td>0.000000</td>\n",
       "      <td>0.000000</td>\n",
       "      <td>0.000000</td>\n",
       "      <td>0.000000</td>\n",
       "      <td>0.000000</td>\n",
       "    </tr>\n",
       "    <tr>\n",
       "      <th>25%</th>\n",
       "      <td>0.000000</td>\n",
       "      <td>0.000000</td>\n",
       "      <td>0.000000</td>\n",
       "      <td>0.000000</td>\n",
       "      <td>0.000000</td>\n",
       "      <td>0.000000</td>\n",
       "      <td>0.000000</td>\n",
       "      <td>0.000000</td>\n",
       "      <td>0.000000</td>\n",
       "      <td>0.000000</td>\n",
       "      <td>...</td>\n",
       "      <td>0.000000</td>\n",
       "      <td>0.000000</td>\n",
       "      <td>0.000000</td>\n",
       "      <td>0.000000</td>\n",
       "      <td>0.000000</td>\n",
       "      <td>0.000000</td>\n",
       "      <td>0.000000</td>\n",
       "      <td>0.000000</td>\n",
       "      <td>0.000000</td>\n",
       "      <td>0.000000</td>\n",
       "    </tr>\n",
       "    <tr>\n",
       "      <th>50%</th>\n",
       "      <td>0.000000</td>\n",
       "      <td>0.000000</td>\n",
       "      <td>0.000000</td>\n",
       "      <td>0.000000</td>\n",
       "      <td>0.000000</td>\n",
       "      <td>0.000000</td>\n",
       "      <td>0.000000</td>\n",
       "      <td>0.000000</td>\n",
       "      <td>0.000000</td>\n",
       "      <td>0.000000</td>\n",
       "      <td>...</td>\n",
       "      <td>0.000000</td>\n",
       "      <td>0.000000</td>\n",
       "      <td>0.000000</td>\n",
       "      <td>1.000000</td>\n",
       "      <td>0.000000</td>\n",
       "      <td>0.000000</td>\n",
       "      <td>0.000000</td>\n",
       "      <td>0.000000</td>\n",
       "      <td>0.000000</td>\n",
       "      <td>0.000000</td>\n",
       "    </tr>\n",
       "    <tr>\n",
       "      <th>75%</th>\n",
       "      <td>1.000000</td>\n",
       "      <td>0.000000</td>\n",
       "      <td>1.000000</td>\n",
       "      <td>1.000000</td>\n",
       "      <td>1.000000</td>\n",
       "      <td>0.000000</td>\n",
       "      <td>1.000000</td>\n",
       "      <td>0.000000</td>\n",
       "      <td>1.000000</td>\n",
       "      <td>1.000000</td>\n",
       "      <td>...</td>\n",
       "      <td>1.000000</td>\n",
       "      <td>0.000000</td>\n",
       "      <td>1.000000</td>\n",
       "      <td>1.000000</td>\n",
       "      <td>0.000000</td>\n",
       "      <td>0.000000</td>\n",
       "      <td>0.000000</td>\n",
       "      <td>0.000000</td>\n",
       "      <td>1.000000</td>\n",
       "      <td>0.000000</td>\n",
       "    </tr>\n",
       "    <tr>\n",
       "      <th>max</th>\n",
       "      <td>1.000000</td>\n",
       "      <td>1.000000</td>\n",
       "      <td>1.000000</td>\n",
       "      <td>1.000000</td>\n",
       "      <td>1.000000</td>\n",
       "      <td>1.000000</td>\n",
       "      <td>1.000000</td>\n",
       "      <td>1.000000</td>\n",
       "      <td>1.000000</td>\n",
       "      <td>1.000000</td>\n",
       "      <td>...</td>\n",
       "      <td>1.000000</td>\n",
       "      <td>1.000000</td>\n",
       "      <td>1.000000</td>\n",
       "      <td>1.000000</td>\n",
       "      <td>1.000000</td>\n",
       "      <td>1.000000</td>\n",
       "      <td>1.000000</td>\n",
       "      <td>1.000000</td>\n",
       "      <td>1.000000</td>\n",
       "      <td>1.000000</td>\n",
       "    </tr>\n",
       "  </tbody>\n",
       "</table>\n",
       "<p>8 rows × 31 columns</p>\n",
       "</div>"
      ],
      "text/plain": [
       "       Multiple Lines_No  Multiple Lines_No phone service  Multiple Lines_Yes  \\\n",
       "count        6499.000000                      6499.000000         6499.000000   \n",
       "mean            0.482844                         0.094630            0.422527   \n",
       "std             0.499744                         0.292726            0.493999   \n",
       "min             0.000000                         0.000000            0.000000   \n",
       "25%             0.000000                         0.000000            0.000000   \n",
       "50%             0.000000                         0.000000            0.000000   \n",
       "75%             1.000000                         0.000000            1.000000   \n",
       "max             1.000000                         1.000000            1.000000   \n",
       "\n",
       "       Internet Service_DSL  Internet Service_Fiber optic  \\\n",
       "count           6499.000000                   6499.000000   \n",
       "mean               0.341129                      0.440068   \n",
       "std                0.474125                      0.496433   \n",
       "min                0.000000                      0.000000   \n",
       "25%                0.000000                      0.000000   \n",
       "50%                0.000000                      0.000000   \n",
       "75%                1.000000                      1.000000   \n",
       "max                1.000000                      1.000000   \n",
       "\n",
       "       Internet Service_No  Online Security_No  \\\n",
       "count          6499.000000         6499.000000   \n",
       "mean              0.218803            0.493614   \n",
       "std               0.413466            0.499998   \n",
       "min               0.000000            0.000000   \n",
       "25%               0.000000            0.000000   \n",
       "50%               0.000000            0.000000   \n",
       "75%               0.000000            1.000000   \n",
       "max               1.000000            1.000000   \n",
       "\n",
       "       Online Security_No internet service  Online Security_Yes  \\\n",
       "count                          6499.000000          6499.000000   \n",
       "mean                              0.218803             0.287583   \n",
       "std                               0.413466             0.452670   \n",
       "min                               0.000000             0.000000   \n",
       "25%                               0.000000             0.000000   \n",
       "50%                               0.000000             0.000000   \n",
       "75%                               0.000000             1.000000   \n",
       "max                               1.000000             1.000000   \n",
       "\n",
       "       Online Backup_No  ...  Streaming Movies_No  \\\n",
       "count       6499.000000  ...          6499.000000   \n",
       "mean           0.439298  ...             0.393137   \n",
       "std            0.496340  ...             0.488484   \n",
       "min            0.000000  ...             0.000000   \n",
       "25%            0.000000  ...             0.000000   \n",
       "50%            0.000000  ...             0.000000   \n",
       "75%            1.000000  ...             1.000000   \n",
       "max            1.000000  ...             1.000000   \n",
       "\n",
       "       Streaming Movies_No internet service  Streaming Movies_Yes  \\\n",
       "count                           6499.000000           6499.000000   \n",
       "mean                               0.218803              0.388060   \n",
       "std                                0.413466              0.487346   \n",
       "min                                0.000000              0.000000   \n",
       "25%                                0.000000              0.000000   \n",
       "50%                                0.000000              0.000000   \n",
       "75%                                0.000000              1.000000   \n",
       "max                                1.000000              1.000000   \n",
       "\n",
       "       Contract_Month-to-month  Contract_One year  Contract_Two year  \\\n",
       "count              6499.000000        6499.000000        6499.000000   \n",
       "mean                  0.550238           0.208955           0.240806   \n",
       "std                   0.497508           0.406594           0.427606   \n",
       "min                   0.000000           0.000000           0.000000   \n",
       "25%                   0.000000           0.000000           0.000000   \n",
       "50%                   1.000000           0.000000           0.000000   \n",
       "75%                   1.000000           0.000000           0.000000   \n",
       "max                   1.000000           1.000000           1.000000   \n",
       "\n",
       "       Payment Method_Bank transfer (automatic)  \\\n",
       "count                               6499.000000   \n",
       "mean                                   0.219418   \n",
       "std                                    0.413884   \n",
       "min                                    0.000000   \n",
       "25%                                    0.000000   \n",
       "50%                                    0.000000   \n",
       "75%                                    0.000000   \n",
       "max                                    1.000000   \n",
       "\n",
       "       Payment Method_Credit card (automatic)  \\\n",
       "count                             6499.000000   \n",
       "mean                                 0.216341   \n",
       "std                                  0.411781   \n",
       "min                                  0.000000   \n",
       "25%                                  0.000000   \n",
       "50%                                  0.000000   \n",
       "75%                                  0.000000   \n",
       "max                                  1.000000   \n",
       "\n",
       "       Payment Method_Electronic check  Payment Method_Mailed check  \n",
       "count                      6499.000000                  6499.000000  \n",
       "mean                          0.335744                     0.228497  \n",
       "std                           0.472286                     0.419897  \n",
       "min                           0.000000                     0.000000  \n",
       "25%                           0.000000                     0.000000  \n",
       "50%                           0.000000                     0.000000  \n",
       "75%                           1.000000                     0.000000  \n",
       "max                           1.000000                     1.000000  \n",
       "\n",
       "[8 rows x 31 columns]"
      ]
     },
     "execution_count": 19,
     "metadata": {},
     "output_type": "execute_result"
    }
   ],
   "source": [
    "data_nonbin = pd.get_dummies(data[nonbinary_colum])\n",
    "data_nonbin.describe()"
   ]
  },
  {
   "cell_type": "markdown",
   "id": "8f94d672",
   "metadata": {},
   "source": [
    "## Нормализация числовых признаков"
   ]
  },
  {
   "cell_type": "code",
   "execution_count": 20,
   "id": "45ae2102",
   "metadata": {},
   "outputs": [
    {
     "data": {
      "text/html": [
       "<div>\n",
       "<style scoped>\n",
       "    .dataframe tbody tr th:only-of-type {\n",
       "        vertical-align: middle;\n",
       "    }\n",
       "\n",
       "    .dataframe tbody tr th {\n",
       "        vertical-align: top;\n",
       "    }\n",
       "\n",
       "    .dataframe thead th {\n",
       "        text-align: right;\n",
       "    }\n",
       "</style>\n",
       "<table border=\"1\" class=\"dataframe\">\n",
       "  <thead>\n",
       "    <tr style=\"text-align: right;\">\n",
       "      <th></th>\n",
       "      <th>Gender</th>\n",
       "      <th>Senior Citizen</th>\n",
       "      <th>Tenure</th>\n",
       "      <th>Monthly Charges</th>\n",
       "      <th>Total Charges</th>\n",
       "    </tr>\n",
       "  </thead>\n",
       "  <tbody>\n",
       "    <tr>\n",
       "      <th>count</th>\n",
       "      <td>6499.000000</td>\n",
       "      <td>6499.000000</td>\n",
       "      <td>6499.000000</td>\n",
       "      <td>6499.000000</td>\n",
       "      <td>6499.000000</td>\n",
       "    </tr>\n",
       "    <tr>\n",
       "      <th>mean</th>\n",
       "      <td>0.506232</td>\n",
       "      <td>0.162487</td>\n",
       "      <td>32.369134</td>\n",
       "      <td>64.733344</td>\n",
       "      <td>2281.708447</td>\n",
       "    </tr>\n",
       "    <tr>\n",
       "      <th>std</th>\n",
       "      <td>0.500000</td>\n",
       "      <td>0.368925</td>\n",
       "      <td>24.584693</td>\n",
       "      <td>30.136193</td>\n",
       "      <td>2268.701542</td>\n",
       "    </tr>\n",
       "    <tr>\n",
       "      <th>min</th>\n",
       "      <td>0.000000</td>\n",
       "      <td>0.000000</td>\n",
       "      <td>0.000000</td>\n",
       "      <td>18.250000</td>\n",
       "      <td>18.800000</td>\n",
       "    </tr>\n",
       "    <tr>\n",
       "      <th>25%</th>\n",
       "      <td>0.000000</td>\n",
       "      <td>0.000000</td>\n",
       "      <td>9.000000</td>\n",
       "      <td>35.400000</td>\n",
       "      <td>399.800000</td>\n",
       "    </tr>\n",
       "    <tr>\n",
       "      <th>50%</th>\n",
       "      <td>1.000000</td>\n",
       "      <td>0.000000</td>\n",
       "      <td>29.000000</td>\n",
       "      <td>70.350000</td>\n",
       "      <td>1397.100000</td>\n",
       "    </tr>\n",
       "    <tr>\n",
       "      <th>75%</th>\n",
       "      <td>1.000000</td>\n",
       "      <td>0.000000</td>\n",
       "      <td>55.000000</td>\n",
       "      <td>89.850000</td>\n",
       "      <td>3778.100000</td>\n",
       "    </tr>\n",
       "    <tr>\n",
       "      <th>max</th>\n",
       "      <td>1.000000</td>\n",
       "      <td>1.000000</td>\n",
       "      <td>72.000000</td>\n",
       "      <td>118.750000</td>\n",
       "      <td>8684.800000</td>\n",
       "    </tr>\n",
       "  </tbody>\n",
       "</table>\n",
       "</div>"
      ],
      "text/plain": [
       "            Gender  Senior Citizen       Tenure  Monthly Charges  \\\n",
       "count  6499.000000     6499.000000  6499.000000      6499.000000   \n",
       "mean      0.506232        0.162487    32.369134        64.733344   \n",
       "std       0.500000        0.368925    24.584693        30.136193   \n",
       "min       0.000000        0.000000     0.000000        18.250000   \n",
       "25%       0.000000        0.000000     9.000000        35.400000   \n",
       "50%       1.000000        0.000000    29.000000        70.350000   \n",
       "75%       1.000000        0.000000    55.000000        89.850000   \n",
       "max       1.000000        1.000000    72.000000       118.750000   \n",
       "\n",
       "       Total Charges  \n",
       "count    6499.000000  \n",
       "mean     2281.708447  \n",
       "std      2268.701542  \n",
       "min        18.800000  \n",
       "25%       399.800000  \n",
       "50%      1397.100000  \n",
       "75%      3778.100000  \n",
       "max      8684.800000  "
      ]
     },
     "execution_count": 20,
     "metadata": {},
     "output_type": "execute_result"
    }
   ],
   "source": [
    "data_num = data[num_colum]\n",
    "data_num.describe()"
   ]
  },
  {
   "cell_type": "markdown",
   "id": "569033a6",
   "metadata": {},
   "source": [
    "Выполним нормализацию числовых данных"
   ]
  },
  {
   "cell_type": "code",
   "execution_count": 21,
   "id": "d7c73068",
   "metadata": {},
   "outputs": [
    {
     "data": {
      "text/html": [
       "<div>\n",
       "<style scoped>\n",
       "    .dataframe tbody tr th:only-of-type {\n",
       "        vertical-align: middle;\n",
       "    }\n",
       "\n",
       "    .dataframe tbody tr th {\n",
       "        vertical-align: top;\n",
       "    }\n",
       "\n",
       "    .dataframe thead th {\n",
       "        text-align: right;\n",
       "    }\n",
       "</style>\n",
       "<table border=\"1\" class=\"dataframe\">\n",
       "  <thead>\n",
       "    <tr style=\"text-align: right;\">\n",
       "      <th></th>\n",
       "      <th>Gender</th>\n",
       "      <th>Senior Citizen</th>\n",
       "      <th>Tenure</th>\n",
       "      <th>Monthly Charges</th>\n",
       "      <th>Total Charges</th>\n",
       "    </tr>\n",
       "  </thead>\n",
       "  <tbody>\n",
       "    <tr>\n",
       "      <th>count</th>\n",
       "      <td>6.499000e+03</td>\n",
       "      <td>6.499000e+03</td>\n",
       "      <td>6.499000e+03</td>\n",
       "      <td>6.499000e+03</td>\n",
       "      <td>6.499000e+03</td>\n",
       "    </tr>\n",
       "    <tr>\n",
       "      <th>mean</th>\n",
       "      <td>1.968985e-16</td>\n",
       "      <td>8.555158e-17</td>\n",
       "      <td>-1.212892e-16</td>\n",
       "      <td>-3.318216e-15</td>\n",
       "      <td>-1.856664e-15</td>\n",
       "    </tr>\n",
       "    <tr>\n",
       "      <th>std</th>\n",
       "      <td>1.000000e+00</td>\n",
       "      <td>1.000000e+00</td>\n",
       "      <td>1.000000e+00</td>\n",
       "      <td>1.000000e+00</td>\n",
       "      <td>1.000000e+00</td>\n",
       "    </tr>\n",
       "    <tr>\n",
       "      <th>min</th>\n",
       "      <td>-1.012464e+00</td>\n",
       "      <td>-4.404325e-01</td>\n",
       "      <td>-1.316638e+00</td>\n",
       "      <td>-1.542442e+00</td>\n",
       "      <td>-9.974465e-01</td>\n",
       "    </tr>\n",
       "    <tr>\n",
       "      <th>25%</th>\n",
       "      <td>-1.012464e+00</td>\n",
       "      <td>-4.404325e-01</td>\n",
       "      <td>-9.505563e-01</td>\n",
       "      <td>-9.733593e-01</td>\n",
       "      <td>-8.295090e-01</td>\n",
       "    </tr>\n",
       "    <tr>\n",
       "      <th>50%</th>\n",
       "      <td>9.875373e-01</td>\n",
       "      <td>-4.404325e-01</td>\n",
       "      <td>-1.370419e-01</td>\n",
       "      <td>1.863758e-01</td>\n",
       "      <td>-3.899184e-01</td>\n",
       "    </tr>\n",
       "    <tr>\n",
       "      <th>75%</th>\n",
       "      <td>9.875373e-01</td>\n",
       "      <td>-4.404325e-01</td>\n",
       "      <td>9.205267e-01</td>\n",
       "      <td>8.334383e-01</td>\n",
       "      <td>6.595806e-01</td>\n",
       "    </tr>\n",
       "    <tr>\n",
       "      <th>max</th>\n",
       "      <td>9.875373e-01</td>\n",
       "      <td>2.270146e+00</td>\n",
       "      <td>1.612014e+00</td>\n",
       "      <td>1.792418e+00</td>\n",
       "      <td>2.822360e+00</td>\n",
       "    </tr>\n",
       "  </tbody>\n",
       "</table>\n",
       "</div>"
      ],
      "text/plain": [
       "             Gender  Senior Citizen        Tenure  Monthly Charges  \\\n",
       "count  6.499000e+03    6.499000e+03  6.499000e+03     6.499000e+03   \n",
       "mean   1.968985e-16    8.555158e-17 -1.212892e-16    -3.318216e-15   \n",
       "std    1.000000e+00    1.000000e+00  1.000000e+00     1.000000e+00   \n",
       "min   -1.012464e+00   -4.404325e-01 -1.316638e+00    -1.542442e+00   \n",
       "25%   -1.012464e+00   -4.404325e-01 -9.505563e-01    -9.733593e-01   \n",
       "50%    9.875373e-01   -4.404325e-01 -1.370419e-01     1.863758e-01   \n",
       "75%    9.875373e-01   -4.404325e-01  9.205267e-01     8.334383e-01   \n",
       "max    9.875373e-01    2.270146e+00  1.612014e+00     1.792418e+00   \n",
       "\n",
       "       Total Charges  \n",
       "count   6.499000e+03  \n",
       "mean   -1.856664e-15  \n",
       "std     1.000000e+00  \n",
       "min    -9.974465e-01  \n",
       "25%    -8.295090e-01  \n",
       "50%    -3.899184e-01  \n",
       "75%     6.595806e-01  \n",
       "max     2.822360e+00  "
      ]
     },
     "execution_count": 21,
     "metadata": {},
     "output_type": "execute_result"
    }
   ],
   "source": [
    "data_num = (data_num - data_num.mean()) / data_num.std()\n",
    "data_num.describe()"
   ]
  },
  {
   "cell_type": "markdown",
   "id": "1041a85f",
   "metadata": {},
   "source": [
    "Соединим все столбцы в одну таблицу"
   ]
  },
  {
   "cell_type": "code",
   "execution_count": 22,
   "id": "dad0f7f7",
   "metadata": {},
   "outputs": [
    {
     "data": {
      "text/html": [
       "<div>\n",
       "<style scoped>\n",
       "    .dataframe tbody tr th:only-of-type {\n",
       "        vertical-align: middle;\n",
       "    }\n",
       "\n",
       "    .dataframe tbody tr th {\n",
       "        vertical-align: top;\n",
       "    }\n",
       "\n",
       "    .dataframe thead th {\n",
       "        text-align: right;\n",
       "    }\n",
       "</style>\n",
       "<table border=\"1\" class=\"dataframe\">\n",
       "  <thead>\n",
       "    <tr style=\"text-align: right;\">\n",
       "      <th></th>\n",
       "      <th>Gender</th>\n",
       "      <th>Senior Citizen</th>\n",
       "      <th>Tenure</th>\n",
       "      <th>Monthly Charges</th>\n",
       "      <th>Total Charges</th>\n",
       "      <th>Multiple Lines_No</th>\n",
       "      <th>Multiple Lines_No phone service</th>\n",
       "      <th>Multiple Lines_Yes</th>\n",
       "      <th>Internet Service_DSL</th>\n",
       "      <th>Internet Service_Fiber optic</th>\n",
       "      <th>...</th>\n",
       "      <th>Contract_One year</th>\n",
       "      <th>Contract_Two year</th>\n",
       "      <th>Payment Method_Bank transfer (automatic)</th>\n",
       "      <th>Payment Method_Credit card (automatic)</th>\n",
       "      <th>Payment Method_Electronic check</th>\n",
       "      <th>Payment Method_Mailed check</th>\n",
       "      <th>Partner</th>\n",
       "      <th>Dependents</th>\n",
       "      <th>Phone Service</th>\n",
       "      <th>Paperless Billing</th>\n",
       "    </tr>\n",
       "  </thead>\n",
       "  <tbody>\n",
       "    <tr>\n",
       "      <th>count</th>\n",
       "      <td>6.499000e+03</td>\n",
       "      <td>6.499000e+03</td>\n",
       "      <td>6.499000e+03</td>\n",
       "      <td>6.499000e+03</td>\n",
       "      <td>6.499000e+03</td>\n",
       "      <td>6499.000000</td>\n",
       "      <td>6499.000000</td>\n",
       "      <td>6499.000000</td>\n",
       "      <td>6499.000000</td>\n",
       "      <td>6499.000000</td>\n",
       "      <td>...</td>\n",
       "      <td>6499.000000</td>\n",
       "      <td>6499.000000</td>\n",
       "      <td>6499.000000</td>\n",
       "      <td>6499.000000</td>\n",
       "      <td>6499.000000</td>\n",
       "      <td>6499.000000</td>\n",
       "      <td>6499.000000</td>\n",
       "      <td>6499.000000</td>\n",
       "      <td>6499.000000</td>\n",
       "      <td>6499.000000</td>\n",
       "    </tr>\n",
       "    <tr>\n",
       "      <th>mean</th>\n",
       "      <td>1.968985e-16</td>\n",
       "      <td>8.555158e-17</td>\n",
       "      <td>-1.212892e-16</td>\n",
       "      <td>-3.318216e-15</td>\n",
       "      <td>-1.856664e-15</td>\n",
       "      <td>0.482844</td>\n",
       "      <td>0.094630</td>\n",
       "      <td>0.422527</td>\n",
       "      <td>0.341129</td>\n",
       "      <td>0.440068</td>\n",
       "      <td>...</td>\n",
       "      <td>0.208955</td>\n",
       "      <td>0.240806</td>\n",
       "      <td>0.219418</td>\n",
       "      <td>0.216341</td>\n",
       "      <td>0.335744</td>\n",
       "      <td>0.228497</td>\n",
       "      <td>0.516849</td>\n",
       "      <td>0.701800</td>\n",
       "      <td>0.094630</td>\n",
       "      <td>0.409755</td>\n",
       "    </tr>\n",
       "    <tr>\n",
       "      <th>std</th>\n",
       "      <td>1.000000e+00</td>\n",
       "      <td>1.000000e+00</td>\n",
       "      <td>1.000000e+00</td>\n",
       "      <td>1.000000e+00</td>\n",
       "      <td>1.000000e+00</td>\n",
       "      <td>0.499744</td>\n",
       "      <td>0.292726</td>\n",
       "      <td>0.493999</td>\n",
       "      <td>0.474125</td>\n",
       "      <td>0.496433</td>\n",
       "      <td>...</td>\n",
       "      <td>0.406594</td>\n",
       "      <td>0.427606</td>\n",
       "      <td>0.413884</td>\n",
       "      <td>0.411781</td>\n",
       "      <td>0.472286</td>\n",
       "      <td>0.419897</td>\n",
       "      <td>0.499754</td>\n",
       "      <td>0.457503</td>\n",
       "      <td>0.292726</td>\n",
       "      <td>0.491826</td>\n",
       "    </tr>\n",
       "    <tr>\n",
       "      <th>min</th>\n",
       "      <td>-1.012464e+00</td>\n",
       "      <td>-4.404325e-01</td>\n",
       "      <td>-1.316638e+00</td>\n",
       "      <td>-1.542442e+00</td>\n",
       "      <td>-9.974465e-01</td>\n",
       "      <td>0.000000</td>\n",
       "      <td>0.000000</td>\n",
       "      <td>0.000000</td>\n",
       "      <td>0.000000</td>\n",
       "      <td>0.000000</td>\n",
       "      <td>...</td>\n",
       "      <td>0.000000</td>\n",
       "      <td>0.000000</td>\n",
       "      <td>0.000000</td>\n",
       "      <td>0.000000</td>\n",
       "      <td>0.000000</td>\n",
       "      <td>0.000000</td>\n",
       "      <td>0.000000</td>\n",
       "      <td>0.000000</td>\n",
       "      <td>0.000000</td>\n",
       "      <td>0.000000</td>\n",
       "    </tr>\n",
       "    <tr>\n",
       "      <th>25%</th>\n",
       "      <td>-1.012464e+00</td>\n",
       "      <td>-4.404325e-01</td>\n",
       "      <td>-9.505563e-01</td>\n",
       "      <td>-9.733593e-01</td>\n",
       "      <td>-8.295090e-01</td>\n",
       "      <td>0.000000</td>\n",
       "      <td>0.000000</td>\n",
       "      <td>0.000000</td>\n",
       "      <td>0.000000</td>\n",
       "      <td>0.000000</td>\n",
       "      <td>...</td>\n",
       "      <td>0.000000</td>\n",
       "      <td>0.000000</td>\n",
       "      <td>0.000000</td>\n",
       "      <td>0.000000</td>\n",
       "      <td>0.000000</td>\n",
       "      <td>0.000000</td>\n",
       "      <td>0.000000</td>\n",
       "      <td>0.000000</td>\n",
       "      <td>0.000000</td>\n",
       "      <td>0.000000</td>\n",
       "    </tr>\n",
       "    <tr>\n",
       "      <th>50%</th>\n",
       "      <td>9.875373e-01</td>\n",
       "      <td>-4.404325e-01</td>\n",
       "      <td>-1.370419e-01</td>\n",
       "      <td>1.863758e-01</td>\n",
       "      <td>-3.899184e-01</td>\n",
       "      <td>0.000000</td>\n",
       "      <td>0.000000</td>\n",
       "      <td>0.000000</td>\n",
       "      <td>0.000000</td>\n",
       "      <td>0.000000</td>\n",
       "      <td>...</td>\n",
       "      <td>0.000000</td>\n",
       "      <td>0.000000</td>\n",
       "      <td>0.000000</td>\n",
       "      <td>0.000000</td>\n",
       "      <td>0.000000</td>\n",
       "      <td>0.000000</td>\n",
       "      <td>1.000000</td>\n",
       "      <td>1.000000</td>\n",
       "      <td>0.000000</td>\n",
       "      <td>0.000000</td>\n",
       "    </tr>\n",
       "    <tr>\n",
       "      <th>75%</th>\n",
       "      <td>9.875373e-01</td>\n",
       "      <td>-4.404325e-01</td>\n",
       "      <td>9.205267e-01</td>\n",
       "      <td>8.334383e-01</td>\n",
       "      <td>6.595806e-01</td>\n",
       "      <td>1.000000</td>\n",
       "      <td>0.000000</td>\n",
       "      <td>1.000000</td>\n",
       "      <td>1.000000</td>\n",
       "      <td>1.000000</td>\n",
       "      <td>...</td>\n",
       "      <td>0.000000</td>\n",
       "      <td>0.000000</td>\n",
       "      <td>0.000000</td>\n",
       "      <td>0.000000</td>\n",
       "      <td>1.000000</td>\n",
       "      <td>0.000000</td>\n",
       "      <td>1.000000</td>\n",
       "      <td>1.000000</td>\n",
       "      <td>0.000000</td>\n",
       "      <td>1.000000</td>\n",
       "    </tr>\n",
       "    <tr>\n",
       "      <th>max</th>\n",
       "      <td>9.875373e-01</td>\n",
       "      <td>2.270146e+00</td>\n",
       "      <td>1.612014e+00</td>\n",
       "      <td>1.792418e+00</td>\n",
       "      <td>2.822360e+00</td>\n",
       "      <td>1.000000</td>\n",
       "      <td>1.000000</td>\n",
       "      <td>1.000000</td>\n",
       "      <td>1.000000</td>\n",
       "      <td>1.000000</td>\n",
       "      <td>...</td>\n",
       "      <td>1.000000</td>\n",
       "      <td>1.000000</td>\n",
       "      <td>1.000000</td>\n",
       "      <td>1.000000</td>\n",
       "      <td>1.000000</td>\n",
       "      <td>1.000000</td>\n",
       "      <td>1.000000</td>\n",
       "      <td>1.000000</td>\n",
       "      <td>1.000000</td>\n",
       "      <td>1.000000</td>\n",
       "    </tr>\n",
       "  </tbody>\n",
       "</table>\n",
       "<p>8 rows × 40 columns</p>\n",
       "</div>"
      ],
      "text/plain": [
       "             Gender  Senior Citizen        Tenure  Monthly Charges  \\\n",
       "count  6.499000e+03    6.499000e+03  6.499000e+03     6.499000e+03   \n",
       "mean   1.968985e-16    8.555158e-17 -1.212892e-16    -3.318216e-15   \n",
       "std    1.000000e+00    1.000000e+00  1.000000e+00     1.000000e+00   \n",
       "min   -1.012464e+00   -4.404325e-01 -1.316638e+00    -1.542442e+00   \n",
       "25%   -1.012464e+00   -4.404325e-01 -9.505563e-01    -9.733593e-01   \n",
       "50%    9.875373e-01   -4.404325e-01 -1.370419e-01     1.863758e-01   \n",
       "75%    9.875373e-01   -4.404325e-01  9.205267e-01     8.334383e-01   \n",
       "max    9.875373e-01    2.270146e+00  1.612014e+00     1.792418e+00   \n",
       "\n",
       "       Total Charges  Multiple Lines_No  Multiple Lines_No phone service  \\\n",
       "count   6.499000e+03        6499.000000                      6499.000000   \n",
       "mean   -1.856664e-15           0.482844                         0.094630   \n",
       "std     1.000000e+00           0.499744                         0.292726   \n",
       "min    -9.974465e-01           0.000000                         0.000000   \n",
       "25%    -8.295090e-01           0.000000                         0.000000   \n",
       "50%    -3.899184e-01           0.000000                         0.000000   \n",
       "75%     6.595806e-01           1.000000                         0.000000   \n",
       "max     2.822360e+00           1.000000                         1.000000   \n",
       "\n",
       "       Multiple Lines_Yes  Internet Service_DSL  Internet Service_Fiber optic  \\\n",
       "count         6499.000000           6499.000000                   6499.000000   \n",
       "mean             0.422527              0.341129                      0.440068   \n",
       "std              0.493999              0.474125                      0.496433   \n",
       "min              0.000000              0.000000                      0.000000   \n",
       "25%              0.000000              0.000000                      0.000000   \n",
       "50%              0.000000              0.000000                      0.000000   \n",
       "75%              1.000000              1.000000                      1.000000   \n",
       "max              1.000000              1.000000                      1.000000   \n",
       "\n",
       "       ...  Contract_One year  Contract_Two year  \\\n",
       "count  ...        6499.000000        6499.000000   \n",
       "mean   ...           0.208955           0.240806   \n",
       "std    ...           0.406594           0.427606   \n",
       "min    ...           0.000000           0.000000   \n",
       "25%    ...           0.000000           0.000000   \n",
       "50%    ...           0.000000           0.000000   \n",
       "75%    ...           0.000000           0.000000   \n",
       "max    ...           1.000000           1.000000   \n",
       "\n",
       "       Payment Method_Bank transfer (automatic)  \\\n",
       "count                               6499.000000   \n",
       "mean                                   0.219418   \n",
       "std                                    0.413884   \n",
       "min                                    0.000000   \n",
       "25%                                    0.000000   \n",
       "50%                                    0.000000   \n",
       "75%                                    0.000000   \n",
       "max                                    1.000000   \n",
       "\n",
       "       Payment Method_Credit card (automatic)  \\\n",
       "count                             6499.000000   \n",
       "mean                                 0.216341   \n",
       "std                                  0.411781   \n",
       "min                                  0.000000   \n",
       "25%                                  0.000000   \n",
       "50%                                  0.000000   \n",
       "75%                                  0.000000   \n",
       "max                                  1.000000   \n",
       "\n",
       "       Payment Method_Electronic check  Payment Method_Mailed check  \\\n",
       "count                      6499.000000                  6499.000000   \n",
       "mean                          0.335744                     0.228497   \n",
       "std                           0.472286                     0.419897   \n",
       "min                           0.000000                     0.000000   \n",
       "25%                           0.000000                     0.000000   \n",
       "50%                           0.000000                     0.000000   \n",
       "75%                           1.000000                     0.000000   \n",
       "max                           1.000000                     1.000000   \n",
       "\n",
       "           Partner   Dependents  Phone Service  Paperless Billing  \n",
       "count  6499.000000  6499.000000    6499.000000        6499.000000  \n",
       "mean      0.516849     0.701800       0.094630           0.409755  \n",
       "std       0.499754     0.457503       0.292726           0.491826  \n",
       "min       0.000000     0.000000       0.000000           0.000000  \n",
       "25%       0.000000     0.000000       0.000000           0.000000  \n",
       "50%       1.000000     1.000000       0.000000           0.000000  \n",
       "75%       1.000000     1.000000       0.000000           1.000000  \n",
       "max       1.000000     1.000000       1.000000           1.000000  \n",
       "\n",
       "[8 rows x 40 columns]"
      ]
     },
     "execution_count": 22,
     "metadata": {},
     "output_type": "execute_result"
    }
   ],
   "source": [
    "data = pd.concat((data_num, data_nonbin, data[binary_colum], data['Churn']), axis = 1)\n",
    "data.describe()"
   ]
  },
  {
   "cell_type": "markdown",
   "id": "be761cb8",
   "metadata": {},
   "source": [
    "## Разбиение данных на обучающую и тестовую выборки"
   ]
  },
  {
   "cell_type": "markdown",
   "id": "133556ab",
   "metadata": {},
   "source": [
    "Разделим данные в процентном соотношении 85 к 15"
   ]
  },
  {
   "cell_type": "code",
   "execution_count": 23,
   "id": "addd0fdd",
   "metadata": {},
   "outputs": [],
   "source": [
    "X = data.drop(['Churn'], axis = 1)\n",
    "y = data['Churn']\n"
   ]
  },
  {
   "cell_type": "code",
   "execution_count": 24,
   "id": "258958ac",
   "metadata": {},
   "outputs": [
    {
     "data": {
      "text/plain": [
       "(5524, 975)"
      ]
     },
     "execution_count": 24,
     "metadata": {},
     "output_type": "execute_result"
    }
   ],
   "source": [
    "from sklearn.model_selection import train_test_split\n",
    "X_train, X_test, y_train, y_test = train_test_split(X, y, test_size = 0.15)\n",
    "X_train.shape[0], X_test.shape[0]"
   ]
  },
  {
   "cell_type": "markdown",
   "id": "806b8163",
   "metadata": {},
   "source": [
    "## Классификатор ближайших соседей"
   ]
  },
  {
   "cell_type": "markdown",
   "id": "a944bc3d",
   "metadata": {},
   "source": [
    "Определим лучшее количество соседей из четырех предложенных. Для него найдем процент погрешности на обучающей и тестовой выборках"
   ]
  },
  {
   "cell_type": "code",
   "execution_count": 101,
   "id": "3fef074e",
   "metadata": {},
   "outputs": [
    {
     "name": "stdout",
     "output_type": "stream",
     "text": [
      "0.2161485999081907 13\n",
      "0.18211440984793625 0.23589743589743595\n"
     ]
    }
   ],
   "source": [
    "import sklearn\n",
    "from sklearn.neighbors import KNeighborsClassifier\n",
    "from sklearn.model_selection import cross_val_score\n",
    "from sklearn.model_selection import GridSearchCV\n",
    "\n",
    "n = [1, 3, 5, 7, 9, 11, 13, 19]\n",
    "knn = KNeighborsClassifier()\n",
    "grid = GridSearchCV(knn, param_grid = {'n_neighbors': n})\n",
    "grid.fit(X_train, y_train)\n",
    "\n",
    "best_err = 1 - grid.best_score_\n",
    "best_n = grid.best_estimator_.n_neighbors\n",
    "print(best_err, best_n)\n",
    "\n",
    "knn = KNeighborsClassifier(n_neighbors = best_n)\n",
    "knn.fit(X_train, y_train)\n",
    "err_train = 1 - knn.score(X_train, y_train)\n",
    "err_test = 1 - knn.score(X_test, y_test)\n",
    "print(err_train, err_test)"
   ]
  },
  {
   "cell_type": "markdown",
   "id": "3401cf4c",
   "metadata": {},
   "source": [
    "Для оптимального (из 4х предложенных) числа соседей метод KNN показал приемлемый результат. Погрешность на тренировочной выборке порядка 18%, а на тестовой 23%. Эти данные получены при числе соседей равном 13 и объеме обучающей выборки равном 5524, а тестовой 975. Скорее всего, полученные результаты можно значительно улучшить, если применить другой метод классификации "
   ]
  },
  {
   "cell_type": "markdown",
   "id": "3b061d5e",
   "metadata": {},
   "source": [
    "# Нейронная сеть"
   ]
  },
  {
   "cell_type": "code",
   "execution_count": 55,
   "id": "ede8199d",
   "metadata": {},
   "outputs": [],
   "source": [
    "from sklearn.neural_network import MLPClassifier"
   ]
  },
  {
   "cell_type": "code",
   "execution_count": 58,
   "id": "0316e1a0",
   "metadata": {},
   "outputs": [],
   "source": [
    "mlp_model = MLPClassifier(hidden_layer_sizes = (25,),\n",
    "                          solver = 'lbfgs', \n",
    "                          activation = 'logistic',\n",
    "                          max_iter = 1000,\n",
    "                          random_state = 42)"
   ]
  },
  {
   "cell_type": "code",
   "execution_count": 59,
   "id": "c5c1746e",
   "metadata": {},
   "outputs": [
    {
     "name": "stdout",
     "output_type": "stream",
     "text": [
      "CPU times: total: 19 s\n",
      "Wall time: 4.83 s\n"
     ]
    },
    {
     "data": {
      "text/plain": [
       "MLPClassifier(activation='logistic', hidden_layer_sizes=(25,), max_iter=1000,\n",
       "              random_state=42, solver='lbfgs')"
      ]
     },
     "execution_count": 59,
     "metadata": {},
     "output_type": "execute_result"
    }
   ],
   "source": [
    "%%time\n",
    "mlp_model.fit(X_train, y_train)"
   ]
  },
  {
   "cell_type": "markdown",
   "id": "e2e8d78f",
   "metadata": {},
   "source": [
    "## Проверяем качество классификатора"
   ]
  },
  {
   "cell_type": "code",
   "execution_count": 35,
   "id": "c9cb529a",
   "metadata": {},
   "outputs": [],
   "source": [
    "y_train_pred = mlp_model.predict(X_train)\n",
    "y_test_pred = mlp_model.predict(X_test)"
   ]
  },
  {
   "cell_type": "markdown",
   "id": "157b39e9",
   "metadata": {},
   "source": [
    "Ошибки на обучающей и тестовых выборках:"
   ]
  },
  {
   "cell_type": "code",
   "execution_count": 36,
   "id": "dd4daeea",
   "metadata": {},
   "outputs": [
    {
     "name": "stdout",
     "output_type": "stream",
     "text": [
      "0.09286748732802318 0.26666666666666666\n"
     ]
    }
   ],
   "source": [
    "print(np.mean(y_train != y_train_pred), np.mean(y_test != y_test_pred))"
   ]
  },
  {
   "cell_type": "markdown",
   "id": "09c1a60b",
   "metadata": {},
   "source": [
    "## Подбор гиперпараметров"
   ]
  },
  {
   "cell_type": "code",
   "execution_count": 39,
   "id": "5adbec22",
   "metadata": {},
   "outputs": [],
   "source": [
    "from sklearn.metrics import accuracy_score\n",
    "alpha_arr = np.logspace(-3, 2, 21)\n",
    "test_err = []\n",
    "train_err = []\n",
    "train_acc = []\n",
    "test_acc = []\n",
    "\n",
    "for alpha in alpha_arr:\n",
    "    mlp_model = MLPClassifier(alpha = alpha, hidden_layer_sizes = (25,), \n",
    "                              solver = 'lbfgs', activation = 'logistic', max_iter=1000, random_state = 42)\n",
    "    mlp_model.fit(X_train, y_train)\n",
    "\n",
    "    y_train_pred = mlp_model.predict(X_train)\n",
    "    y_test_pred = mlp_model.predict(X_test)\n",
    "    \n",
    "    train_err.append(np.mean(y_train != y_train_pred))\n",
    "    test_err.append(np.mean(y_test != y_test_pred))\n",
    "    train_acc.append(accuracy_score(y_train, y_train_pred))\n",
    "    test_acc.append(accuracy_score(y_test, y_test_pred))"
   ]
  },
  {
   "cell_type": "code",
   "execution_count": 40,
   "id": "e7156506",
   "metadata": {},
   "outputs": [
    {
     "data": {
      "text/plain": [
       "<matplotlib.legend.Legend at 0x17065886580>"
      ]
     },
     "execution_count": 40,
     "metadata": {},
     "output_type": "execute_result"
    },
    {
     "data": {
      "image/png": "[encoded data removed]",
      "text/plain": [
       "<Figure size 432x288 with 1 Axes>"
      ]
     },
     "metadata": {
      "needs_background": "light"
     },
     "output_type": "display_data"
    }
   ],
   "source": [
    "import numpy as np\n",
    "import matplotlib.pyplot as plt\n",
    "%matplotlib inline\n",
    "\n",
    "plt.semilogx(alpha_arr, train_err, 'b-o', label = 'train')\n",
    "plt.semilogx(alpha_arr, test_err, 'r-o', label = 'test')\n",
    "plt.xlim([np.min(alpha_arr), np.max(alpha_arr)])\n",
    "plt.title('Error vs. alpha')\n",
    "plt.xlabel('alpha')\n",
    "plt.ylabel('error')\n",
    "plt.legend()"
   ]
  },
  {
   "cell_type": "code",
   "execution_count": 41,
   "id": "c76a9e5b",
   "metadata": {},
   "outputs": [
    {
     "data": {
      "text/plain": [
       "<matplotlib.legend.Legend at 0x170606f04f0>"
      ]
     },
     "execution_count": 41,
     "metadata": {},
     "output_type": "execute_result"
    },
    {
     "data": {
      "image/png": "[encoded data removed]",
      "text/plain": [
       "<Figure size 432x288 with 1 Axes>"
      ]
     },
     "metadata": {
      "needs_background": "light"
     },
     "output_type": "display_data"
    }
   ],
   "source": [
    "plt.semilogx(alpha_arr, train_acc, 'r-o', label = 'train')\n",
    "plt.semilogx(alpha_arr, test_acc, 'b-o', label = 'test')\n",
    "plt.xlim([np.min(alpha_arr), np.max(alpha_arr)])\n",
    "plt.title('Accuracy vs. alpha')\n",
    "plt.xlabel('alpha')\n",
    "plt.ylabel('Accuracy')\n",
    "plt.legend()"
   ]
  },
  {
   "cell_type": "markdown",
   "id": "5d8b1d25",
   "metadata": {},
   "source": [
    "Минимальное значение ошибки:"
   ]
  },
  {
   "cell_type": "code",
   "execution_count": 42,
   "id": "833d858f",
   "metadata": {},
   "outputs": [
    {
     "name": "stdout",
     "output_type": "stream",
     "text": [
      "0.0939536567704562 0.18051282051282053\n"
     ]
    }
   ],
   "source": [
    "min_train_err = np.min(train_err)\n",
    "min_test_err = np.min(test_err)\n",
    "print(min_train_err, min_test_err)"
   ]
  },
  {
   "cell_type": "markdown",
   "id": "554cd9b0",
   "metadata": {},
   "source": [
    "Оптимальное значение alpha:"
   ]
  },
  {
   "cell_type": "code",
   "execution_count": 43,
   "id": "d0e7eb88",
   "metadata": {},
   "outputs": [
    {
     "name": "stdout",
     "output_type": "stream",
     "text": [
      "[3.16227766]\n"
     ]
    }
   ],
   "source": [
    "alpha_opt = alpha_arr[test_err == min_test_err]\n",
    "print(alpha_opt)"
   ]
  },
  {
   "cell_type": "code",
   "execution_count": 44,
   "id": "5bbeb518",
   "metadata": {},
   "outputs": [],
   "source": [
    "alpha_opt = alpha_opt[0]"
   ]
  },
  {
   "cell_type": "markdown",
   "id": "d36563af",
   "metadata": {},
   "source": [
    "## Классификатор при найденном оптимальном значении alpha:"
   ]
  },
  {
   "cell_type": "code",
   "execution_count": 48,
   "id": "d6860f1a",
   "metadata": {},
   "outputs": [
    {
     "name": "stdout",
     "output_type": "stream",
     "text": [
      "0.19007965242577843\n",
      "0.18051282051282053\n"
     ]
    }
   ],
   "source": [
    "mlp_model = MLPClassifier(alpha = alpha_opt, hidden_layer_sizes = (25,),\n",
    "                          solver = 'lbfgs', activation = 'logistic', random_state = 42)\n",
    "mlp_model.fit(X_train, y_train)\n",
    "\n",
    "y_train_pred = mlp_model.predict(X_train)\n",
    "y_test_pred = mlp_model.predict(X_test)\n",
    "print(np.mean(y_train != y_train_pred))\n",
    "print(np.mean(y_test != y_test_pred))"
   ]
  },
  {
   "cell_type": "markdown",
   "id": "23ba76b9",
   "metadata": {},
   "source": [
    "### Рассмотрим ошибку в зависимости от количества нейронов "
   ]
  },
  {
   "cell_type": "code",
   "execution_count": 69,
   "id": "47c5b686",
   "metadata": {},
   "outputs": [],
   "source": [
    "test_err = []\n",
    "train_err = []\n",
    "train_acc = []\n",
    "test_acc = []\n",
    "\n",
    "number_of_neurons = np.arange(1, 26)\n",
    "\n",
    "for num in number_of_neurons:\n",
    "    mlp_model = MLPClassifier(hidden_layer_sizes = (num,), \n",
    "                              solver = 'lbfgs', activation = 'logistic', max_iter=1000, random_state = 42)\n",
    "    mlp_model.fit(X_train, y_train)\n",
    "\n",
    "    y_train_pred = mlp_model.predict(X_train)\n",
    "    y_test_pred = mlp_model.predict(X_test)\n",
    "    \n",
    "    train_err.append(np.mean(y_train != y_train_pred))\n",
    "    test_err.append(np.mean(y_test != y_test_pred))\n",
    "    train_acc.append(accuracy_score(y_train, y_train_pred))\n",
    "    test_acc.append(accuracy_score(y_test, y_test_pred))"
   ]
  },
  {
   "cell_type": "code",
   "execution_count": 71,
   "id": "4aa68554",
   "metadata": {},
   "outputs": [
    {
     "data": {
      "text/plain": [
       "<matplotlib.legend.Legend at 0x17065d85e80>"
      ]
     },
     "execution_count": 71,
     "metadata": {},
     "output_type": "execute_result"
    },
    {
     "data": {
      "image/png": "[encoded data removed]",
      "text/plain": [
       "<Figure size 432x288 with 1 Axes>"
      ]
     },
     "metadata": {
      "needs_background": "light"
     },
     "output_type": "display_data"
    }
   ],
   "source": [
    "plt.plot(number_of_neurons, train_err, 'b-o', label = 'train')\n",
    "plt.plot(number_of_neurons, test_err, 'r-o', label = 'test')\n",
    "plt.xlim([np.min(number_of_neurons), np.max(number_of_neurons)])\n",
    "plt.title('Error vs. Number of neurons')\n",
    "plt.xlabel('Number of neurons')\n",
    "plt.ylabel('Error')\n",
    "plt.legend()"
   ]
  },
  {
   "cell_type": "code",
   "execution_count": 72,
   "id": "21c200b2",
   "metadata": {},
   "outputs": [
    {
     "data": {
      "text/plain": [
       "<matplotlib.legend.Legend at 0x17065ddc2e0>"
      ]
     },
     "execution_count": 72,
     "metadata": {},
     "output_type": "execute_result"
    },
    {
     "data": {
      "image/png": "[encoded data removed]",
      "text/plain": [
       "<Figure size 432x288 with 1 Axes>"
      ]
     },
     "metadata": {
      "needs_background": "light"
     },
     "output_type": "display_data"
    }
   ],
   "source": [
    "plt.plot(number_of_neurons, train_acc, 'r-o', label = 'train')\n",
    "plt.plot(number_of_neurons, test_acc, 'b-o', label = 'test')\n",
    "plt.xlim([np.min(number_of_neurons), np.max(number_of_neurons)])\n",
    "plt.title('Accuracy vs. Number of neurons')\n",
    "plt.xlabel('Number of neurons')\n",
    "plt.ylabel('Accuracy')\n",
    "plt.legend()"
   ]
  },
  {
   "cell_type": "markdown",
   "id": "bc8ffdca",
   "metadata": {},
   "source": [
    "## Матрица рассогласования:"
   ]
  },
  {
   "cell_type": "code",
   "execution_count": 73,
   "id": "78538245",
   "metadata": {},
   "outputs": [
    {
     "name": "stdout",
     "output_type": "stream",
     "text": [
      "[[596 125]\n",
      " [135 119]]\n"
     ]
    }
   ],
   "source": [
    "from sklearn.metrics import confusion_matrix\n",
    "print(confusion_matrix(y_test_pred, y_test))"
   ]
  },
  {
   "cell_type": "code",
   "execution_count": 74,
   "id": "ab2992fc",
   "metadata": {},
   "outputs": [
    {
     "data": {
      "image/png": "[encoded data removed]",
      "text/plain": [
       "<Figure size 432x288 with 2 Axes>"
      ]
     },
     "metadata": {
      "needs_background": "light"
     },
     "output_type": "display_data"
    }
   ],
   "source": [
    "M = confusion_matrix(y_test_pred, y_test)\n",
    "M = np.sqrt(M)\n",
    "plt.imshow(M, interpolation = 'nearest')\n",
    "plt.set_cmap('binary')\n",
    "plt.xticks(range(2))\n",
    "plt.yticks(range(2))\n",
    "plt.xlabel(\"true label\")\n",
    "plt.ylabel(\"predicted label\")\n",
    "plt.colorbar()\n",
    "pass"
   ]
  },
  {
   "cell_type": "markdown",
   "id": "5c78dd8b",
   "metadata": {},
   "source": [
    "## Вывод"
   ]
  },
  {
   "cell_type": "markdown",
   "id": "70226339",
   "metadata": {},
   "source": [
    "С помощью нейронной сети удалось уменьшить значение ошибки на тестовой выборке до 18%. Стоит отметить, что увеличение параметра альфа не дает уменьшения ошибки. Также видно, что при увеличении количества нейронов на обучающей выборке ошибка уменьшается(что логично), а на тестовой увеличивается, что говорит о переобучении."
   ]
  },
  {
   "cell_type": "code",
   "execution_count": null,
   "id": "09ea580d",
   "metadata": {},
   "outputs": [],
   "source": []
  }
 ],
 "metadata": {
  "kernelspec": {
   "display_name": "Python 3 (ipykernel)",
   "language": "python",
   "name": "python3"
  },
  "language_info": {
   "codemirror_mode": {
    "name": "ipython",
    "version": 3
   },
   "file_extension": ".py",
   "mimetype": "text/x-python",
   "name": "python",
   "nbconvert_exporter": "python",
   "pygments_lexer": "ipython3",
   "version": "3.9.12"
  }
 },
 "nbformat": 4,
 "nbformat_minor": 5
}
